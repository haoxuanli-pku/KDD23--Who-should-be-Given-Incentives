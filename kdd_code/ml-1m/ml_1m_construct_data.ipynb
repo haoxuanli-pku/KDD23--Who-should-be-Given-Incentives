{
 "cells": [
  {
   "cell_type": "code",
   "execution_count": null,
   "id": "cc850be7",
   "metadata": {},
   "outputs": [],
   "source": [
    "import collections\n",
    "import pickle\n",
    "import torch\n",
    "import numpy as np\n",
    "import pandas as pd\n",
    "from sklearn.model_selection import train_test_split\n",
    "from matrix_factorization import MF, NCF\n",
    "from utils import *\n",
    "from sklearn.metrics import roc_auc_score\n",
    "import time\n",
    "np.random.seed(2020)\n",
    "torch.manual_seed(2020)\n",
    "\n",
    "def mse_func(x, y): return np.mean((x-y)**2)\n",
    "rdf = pd.read_csv('./ratings.dat', sep='::', names=[\"user_id\", \"item_id\", \"rating\", \"timestamp\"])\n",
    "rdf.iloc[:, 2][rdf.iloc[:, 2] <= 3] = 0\n",
    "rdf.iloc[:, 2][rdf.iloc[:, 2] > 3] = 1\n",
    "rdf.iloc[:, :2] -= 1\n",
    "rdf = np.array(rdf)[:, :3]\n",
    "np.random.shuffle(rdf)"
   ]
  },
  {
   "cell_type": "code",
   "execution_count": null,
   "id": "d270309f",
   "metadata": {},
   "outputs": [],
   "source": [
    "x_train = np.array(rdf[:, :2])\n",
    "y_train = np.array(rdf[:, 2])\n",
    "num_user = np.max(x_train[:, 0]) + 1\n",
    "num_item = np.max(x_train[:, 1]) + 1"
   ]
  },
  {
   "cell_type": "code",
   "execution_count": null,
   "id": "0134e25f",
   "metadata": {},
   "outputs": [],
   "source": [
    "def sigmoid(x):\n",
    "    return 1.0 / (1 + np.exp(-x))"
   ]
  },
  {
   "cell_type": "code",
   "execution_count": null,
   "id": "862700ca",
   "metadata": {},
   "outputs": [],
   "source": [
    "ncf = NCF(num_user, num_item, embedding_k = 64)\n",
    "ncf.cuda()\n",
    "ncf.fit(x_train, y_train,\n",
    "       lr=0.01,\n",
    "       batch_size=8192,\n",
    "       lamb=1e-5,\n",
    "       tol=1e-5,\n",
    "       verbose=False)\n",
    "\n",
    "test_pred, _ = ncf.predict(x_train)\n",
    "print(np.mean(test_pred))\n",
    "print(np.min(test_pred))\n",
    "print(np.max(test_pred))\n",
    "mse_ncf = mse_func(y_train, test_pred)\n",
    "auc_ncf = roc_auc_score(y_train, test_pred)\n",
    "\n",
    "print(mse_ncf, auc_ncf)"
   ]
  },
  {
   "cell_type": "code",
   "execution_count": null,
   "id": "7a01220d",
   "metadata": {},
   "outputs": [],
   "source": [
    "mf_pretrain = MF(num_user, num_item, embedding_k = 64)\n",
    "mf_pretrain.cuda()\n",
    "\n",
    "mf_pretrain.fit(x_train, y_train, \n",
    "    lr=0.01,\n",
    "    batch_size=2048,\n",
    "    lamb=1e-5,\n",
    "    tol=1e-5,\n",
    "    verbose=False)\n",
    "\n",
    "test_pred, _ = mf_pretrain.predict(x_train)\n",
    "print(np.mean(test_pred))\n",
    "print(np.min(test_pred))\n",
    "print(np.max(test_pred))\n",
    "mse_mf = mse_func(y_train, test_pred)\n",
    "auc_mf = roc_auc_score(y_train, test_pred)\n",
    "\n",
    "print(mse_mf, auc_mf)"
   ]
  },
  {
   "cell_type": "code",
   "execution_count": null,
   "id": "1857ff50",
   "metadata": {},
   "outputs": [],
   "source": [
    "class_C = np.c_[np.array(rdf[rdf[:, 2] == 0][:, 0]), np.array(rdf[rdf[:, 2] == 0][:, 1])]"
   ]
  },
  {
   "cell_type": "code",
   "execution_count": null,
   "id": "514d33b6",
   "metadata": {},
   "outputs": [],
   "source": [
    "all_num = len(rdf[rdf[:, 2] == 1][:, 0])\n",
    "d_e_ratio = 0.5\n",
    "temp_ui = np.c_[np.array(rdf[rdf[:, 2] == 1][:, 0]), np.array(rdf[rdf[:, 2] == 1][:, 1])]\n",
    "temp_rating, z_emb = ncf.predict(temp_ui)\n",
    "\n",
    "temp_rdf = temp_ui[np.argsort(-temp_rating)]\n",
    "class_D = temp_rdf[:int(d_e_ratio * len(temp_rating))]\n",
    "class_E = temp_rdf[int(d_e_ratio * len(temp_rating)):]"
   ]
  },
  {
   "cell_type": "code",
   "execution_count": null,
   "id": "3e7f115f",
   "metadata": {},
   "outputs": [],
   "source": [
    "a_b_ratio = 0.5\n",
    "all_num = int(len(rdf[:, 0]) * 0.8)\n",
    "all_data = pd.DataFrame(\n",
    "    np.zeros((num_user, num_item))).stack().reset_index()\n",
    "\n",
    "all_data = all_data.values[:, :2]\n",
    "\n",
    "unlabeled_x = np.array(\n",
    "    list(set(map(tuple, all_data)) - set(map(tuple, rdf[:, :2]))), dtype=int)\n",
    "np.random.shuffle(unlabeled_x)\n",
    "unlabeled_x = unlabeled_x[:all_num]\n",
    "\n",
    "temp_rating, z_emb = ncf.predict(unlabeled_x)\n",
    "\n",
    "temp_rdf = unlabeled_x[np.argsort(-temp_rating)]\n",
    "class_A = temp_rdf[:int(a_b_ratio * len(temp_rating))]\n",
    "class_B = temp_rdf[int(a_b_ratio * len(temp_rating)):]"
   ]
  },
  {
   "cell_type": "code",
   "execution_count": null,
   "id": "b076bf35",
   "metadata": {},
   "outputs": [],
   "source": [
    "temp = np.zeros([class_A.shape[0], 4])\n",
    "class_new_A = np.c_[class_A, temp]\n",
    "temp = np.zeros([class_B.shape[0], 4])\n",
    "temp[:,[2,3]] = int(1)\n",
    "class_new_B = np.c_[class_B, temp]\n",
    "temp = np.zeros([class_C.shape[0], 4])\n",
    "temp[:,1] = 1\n",
    "class_new_C = np.c_[class_C, temp]\n",
    "temp = np.zeros([class_D.shape[0], 4])\n",
    "temp[:,[1, 3]] = 1\n",
    "class_new_D = np.c_[class_D, temp]\n",
    "temp = np.zeros([class_E.shape[0], 4])\n",
    "temp[:,[1,2,3]] = 1\n",
    "class_new_E = np.c_[class_E, temp]\n",
    "constructed_data = np.r_[np.r_[np.r_[np.r_[class_new_A,class_new_B],class_new_C],class_new_D],class_new_E]"
   ]
  },
  {
   "cell_type": "code",
   "execution_count": null,
   "id": "94c85d01",
   "metadata": {},
   "outputs": [],
   "source": [
    "z = np.ones(constructed_data.shape[0])\n",
    "for i in range(len(z)):\n",
    "    if constructed_data[i][3] == 0 and constructed_data[i][4] == 1 and constructed_data[i][5] == 1:\n",
    "        z[i] = 2\n",
    "    elif constructed_data[i][3] == 1 and constructed_data[i][4] == 0 and constructed_data[i][5] == 0:\n",
    "        z[i] = 3\n",
    "    elif constructed_data[i][3] == 1 and constructed_data[i][4] == 0 and constructed_data[i][5] == 1:\n",
    "        z[i] = 4\n",
    "    elif constructed_data[i][3] == 1 and constructed_data[i][4] == 1 and constructed_data[i][5] == 1:\n",
    "        z[i] = 5\n",
    "constructed_data = np.c_[constructed_data, z]"
   ]
  },
  {
   "cell_type": "code",
   "execution_count": null,
   "id": "c9a7516b",
   "metadata": {},
   "outputs": [],
   "source": [
    "np.random.shuffle(constructed_data)\n",
    "constructed_data_train = constructed_data[:int(0.7*constructed_data.shape[0])]\n",
    "constructed_data_test = constructed_data[int(0.7*constructed_data.shape[0]):]"
   ]
  },
  {
   "cell_type": "code",
   "execution_count": null,
   "id": "6418eeab",
   "metadata": {},
   "outputs": [],
   "source": [
    "all_pred, z_emb = mf_pretrain.predict(constructed_data_train[:,:2])\n",
    "all_pred_bi = np.random.binomial(1, all_pred)\n",
    "\n",
    "T_1 = constructed_data_train[all_pred_bi == 1]\n",
    "T_0 = constructed_data_train[all_pred_bi == 0]\n",
    "\n",
    "T_1 = np.c_[np.c_[np.c_[T_1[:, :2], np.ones(T_1.shape[0])], T_1[:, 3]], T_1[:, 5]]\n",
    "T_0 = np.c_[np.c_[np.c_[T_0[:, :2], np.zeros(T_0.shape[0])], T_0[:, 2]], T_0[:, 4]]\n",
    "\n",
    "x_tr = np.r_[T_0[:, :2], T_1[:, :2]]\n",
    "t_tr = np.r_[np.zeros(T_0.shape[0]), np.ones(T_1.shape[0])]\n",
    "c_tr = np.r_[T_0[:,3], T_1[:,3]]\n",
    "y_tr = np.r_[T_0[:,4], T_1[:,4]]"
   ]
  },
  {
   "cell_type": "code",
   "execution_count": null,
   "id": "f0ad4040",
   "metadata": {},
   "outputs": [],
   "source": [
    "file = open(\"constructed_data\", \"wb\")\n",
    "pickle.dump(constructed_data_train, file)\n",
    "pickle.dump(constructed_data_test, file)\n",
    "pickle.dump(x_tr, file)\n",
    "pickle.dump(t_tr, file)\n",
    "pickle.dump(c_tr, file)\n",
    "pickle.dump(y_tr, file)\n",
    "file.close()"
   ]
  }
 ],
 "metadata": {
  "kernelspec": {
   "display_name": "Python [conda env:pytorch-gpu]",
   "language": "python",
   "name": "conda-env-pytorch-gpu-py"
  },
  "language_info": {
   "codemirror_mode": {
    "name": "ipython",
    "version": 3
   },
   "file_extension": ".py",
   "mimetype": "text/x-python",
   "name": "python",
   "nbconvert_exporter": "python",
   "pygments_lexer": "ipython3",
   "version": "3.7.11"
  }
 },
 "nbformat": 4,
 "nbformat_minor": 5
}
